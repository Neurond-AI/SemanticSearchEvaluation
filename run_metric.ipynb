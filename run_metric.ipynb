{
 "cells": [
  {
   "cell_type": "code",
   "execution_count": 1,
   "metadata": {},
   "outputs": [],
   "source": [
    "import pandas as pd\n",
    "import json\n",
    "import os\n",
    "from calculate_score_utils import calculate_score_top6, calculate_score_top8, calculate_score_top10\n",
    "import matplotlib.pyplot as plt"
   ]
  },
  {
   "cell_type": "code",
   "execution_count": 2,
   "metadata": {},
   "outputs": [],
   "source": [
    "# Get the current directory\n",
    "cwd = os.getcwd()"
   ]
  },
  {
   "cell_type": "code",
   "execution_count": 3,
   "metadata": {},
   "outputs": [
    {
     "name": "stdout",
     "output_type": "stream",
     "text": [
      "0.22795601851851852\n"
     ]
    }
   ],
   "source": [
    "# Calculate final score for english smart search system version using sbert to encode and faiss to index data\n",
    "data_path = cwd + r'/input/english_sbert_faiss/'\n",
    "\n",
    "with open(data_path + r'english_sbert_faiss_top6.json', 'r') as f:\n",
    "    data = json.load(f)\n",
    "score_top6 = calculate_score_top6(list(data.keys()), list(data.values()))\n",
    "\n",
    "with open(data_path + r'english_sbert_faiss_top8.json', 'r') as f:\n",
    "    data = json.load(f)\n",
    "score_top8 = calculate_score_top8(list(data.keys()), list(data.values()))\n",
    "\n",
    "with open(data_path + r'english_sbert_faiss_top10.json', 'r') as f:\n",
    "    data = json.load(f)\n",
    "score_top10 = calculate_score_top10(list(data.keys()), list(data.values()))\n",
    "\n",
    "final_score1 = score_top6 * score_top8 * score_top10\n",
    "print(final_score1)"
   ]
  },
  {
   "cell_type": "code",
   "execution_count": 4,
   "metadata": {},
   "outputs": [
    {
     "name": "stdout",
     "output_type": "stream",
     "text": [
      "0.2024814814814815\n"
     ]
    }
   ],
   "source": [
    "# Calculate final score for english smart search system version using sbert to encode and elasticsearch to index data\n",
    "data_path = cwd + r'/input/english_sbert_elasticsearch/'\n",
    "\n",
    "with open(data_path + r'enlgish_sbert_elasticsearch_top6.json', 'r') as f:\n",
    "    data = json.load(f)\n",
    "score_top6 = calculate_score_top6(list(data.keys()), list(data.values()))\n",
    "\n",
    "with open(data_path + r'enlgish_sbert_elasticsearch_top8.json', 'r') as f:\n",
    "    data = json.load(f)\n",
    "score_top8 = calculate_score_top8(list(data.keys()), list(data.values()))\n",
    "\n",
    "with open(data_path + r'english_sbert_elasticsearch_top10.json', 'r') as f:\n",
    "    data = json.load(f)\n",
    "score_top10 = calculate_score_top10(list(data.keys()), list(data.values()))\n",
    "\n",
    "final_score2 = score_top6 * score_top8 * score_top10\n",
    "print(final_score2)"
   ]
  },
  {
   "cell_type": "code",
   "execution_count": 5,
   "metadata": {},
   "outputs": [
    {
     "name": "stdout",
     "output_type": "stream",
     "text": [
      "0.1\n"
     ]
    }
   ],
   "source": [
    "# Calculate final score for english smart search system version using BM25 to encode and elasticsearch to index data\n",
    "data_path = cwd + r'/input/english_BM25_elasticsearch/'\n",
    "\n",
    "with open(data_path + r'enlgish_BM25_elasticsearch_top6.json', 'r') as f:\n",
    "    data = json.load(f)\n",
    "score_top6 = calculate_score_top6(list(data.keys()), list(data.values()))\n",
    "\n",
    "with open(data_path + r'enlgish_BM25_elasticsearch_top8.json', 'r') as f:\n",
    "    data = json.load(f)\n",
    "score_top8 = calculate_score_top8(list(data.keys()), list(data.values()))\n",
    "\n",
    "with open(data_path + r'english_BM25_elasticsearch_top10.json', 'r') as f:\n",
    "    data = json.load(f)\n",
    "score_top10 = calculate_score_top10(list(data.keys()), list(data.values()))\n",
    "\n",
    "final_score3 = score_top6 * score_top8 * score_top10\n",
    "print(final_score3)"
   ]
  },
  {
   "cell_type": "code",
   "execution_count": 6,
   "metadata": {},
   "outputs": [
    {
     "data": {
      "image/png": "[encoded data removed]",
      "text/plain": [
       "<Figure size 1080x360 with 1 Axes>"
      ]
     },
     "metadata": {
      "needs_background": "light"
     },
     "output_type": "display_data"
    }
   ],
   "source": [
    "# Plot score on bar chart\n",
    "final_score = [final_score1, final_score2, final_score3]\n",
    "fig = plt.figure(figsize=(15,5))\n",
    "plt.barh(range(len(final_score)), final_score)\n",
    "plt.title('Final score of smart search systems')\n",
    "plt.xlabel(final_score)\n",
    "plt.yticks(range(len(final_score)), ['Sbert&Faiss', 'Sbert&Elasticsearch', 'BM25'])\n",
    "plt.savefig('final_score.png')"
   ]
  },
  {
   "cell_type": "code",
   "execution_count": null,
   "metadata": {},
   "outputs": [],
   "source": []
  }
 ],
 "metadata": {
  "kernelspec": {
   "display_name": "SemanticSearch",
   "language": "python",
   "name": "python3"
  },
  "language_info": {
   "codemirror_mode": {
    "name": "ipython",
    "version": 3
   },
   "file_extension": ".py",
   "mimetype": "text/x-python",
   "name": "python",
   "nbconvert_exporter": "python",
   "pygments_lexer": "ipython3",
   "version": "3.9.13"
  },
  "orig_nbformat": 4,
  "vscode": {
   "interpreter": {
    "hash": "858dde6348bd432e3a78582823d21088be009b3198f7bce06450304ea624e62e"
   }
  }
 },
 "nbformat": 4,
 "nbformat_minor": 2
}
